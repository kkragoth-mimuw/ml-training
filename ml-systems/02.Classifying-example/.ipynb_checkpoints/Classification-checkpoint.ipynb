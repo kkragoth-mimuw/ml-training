{
 "cells": [
  {
   "cell_type": "markdown",
   "metadata": {
    "nbpresent": {
     "id": "ac68b4b0-c194-4ef0-9bbd-77611826173c"
    }
   },
   "source": [
    "# 02. Classification\n",
    "\n",
    "Understanding basics of classifications and then jumping to scikit-learn\n",
    "\n",
    "## The Iris dataset\n",
    "* sepal length (pl: działka kielicha)\n",
    "* sepal width\n",
    "* petal length (pl: płatek)\n",
    "* petal width  \n",
    "\n",
    "**Features** - individual numeric measurements to describe data.\n",
    "This dataset has *four* feautures.\n",
    "\n",
    "The problem:\n",
    "> Given these examples, if we see a new flower out in the field, could we make a good prediction about its species from its features?\n",
    "\n",
    "This is **supervised learning** \n"
   ]
  },
  {
   "cell_type": "code",
   "execution_count": 21,
   "metadata": {
    "collapsed": false,
    "nbpresent": {
     "id": "f6b5877f-d710-44d8-a6e2-94c7c9226f59"
    },
    "scrolled": true
   },
   "outputs": [
    {
     "name": "stdout",
     "output_type": "stream",
     "text": [
      "[[ 5.1  3.5  1.4  0.2]\n",
      " [ 4.9  3.   1.4  0.2]\n",
      " [ 4.7  3.2  1.3  0.2]\n",
      " [ 4.6  3.1  1.5  0.2]\n",
      " [ 5.   3.6  1.4  0.2]]\n",
      "Unique targets 3 \n"
     ]
    }
   ],
   "source": [
    "from matplotlib import pyplot as plt\n",
    "import numpy as np\n",
    "\n",
    "from sklearn.datasets import load_iris\n",
    "\n",
    "data = load_iris()\n",
    "\n",
    "print(data.data[:5])\n",
    "print(\"Unique targets %d \" % np.unique(data.target).size)"
   ]
  },
  {
   "cell_type": "code",
   "execution_count": 28,
   "metadata": {
    "collapsed": false,
    "nbpresent": {
     "id": "67665699-d4f6-44ea-aae6-d1212a1d954f"
    }
   },
   "outputs": [
    {
     "data": {
      "image/png": "[encoded data removed]",
      "text/plain": [
       "<matplotlib.figure.Figure at 0x90c4898>"
      ]
     },
     "metadata": {},
     "output_type": "display_data"
    }
   ],
   "source": [
    "features = data.data\n",
    "feature_names = data.feature_names\n",
    "target = data.target\n",
    "target_names = data.target_names\n",
    "\n",
    "markers = {0:'>', 1:'o', 2:'x'}\n",
    "colors  = {0:'r', 1:'g', 2:'b'}\n",
    "\n",
    "plt.xlabel(\"sepal length\")\n",
    "plt.ylabel(\"sepal width\")\n",
    "\n",
    "for i in range(3):\n",
    "    plt.scatter(features[target == i, 0],\n",
    "                features[target == i, 1],\n",
    "                marker=markers[i],\n",
    "                c=colors[i])"
   ]
  },
  {
   "cell_type": "code",
   "execution_count": 30,
   "metadata": {
    "collapsed": false,
    "nbpresent": {
     "id": "06e8f41e-3cfa-4e28-90a6-33452e0c8df6"
    }
   },
   "outputs": [
    {
     "name": "stdout",
     "output_type": "stream",
     "text": [
      "Maximum of setosa: 1.9.\n",
      "Minimum of others: 3.0.\n"
     ]
    }
   ],
   "source": [
    "# Building first classification model:\n",
    "labels = target_names[target]\n",
    "\n",
    "# Petal length is the feature at position 2\n",
    "plength = features[:, 2]\n",
    "\n",
    "# Build an array of booleans:\n",
    "is_setosa = (labels == 'setosa')\n",
    "\n",
    "max_setosa = plength[is_setosa].max()\n",
    "min_non_setosa = plength[~is_setosa].min()\n",
    "\n",
    "print('Maximum of setosa: {0}.'.format(max_setosa))\n",
    "print('Minimum of others: {0}.'.format(min_non_setosa))"
   ]
  },
  {
   "cell_type": "code",
   "execution_count": 31,
   "metadata": {
    "collapsed": true,
    "nbpresent": {
     "id": "8f64285a-89fc-452d-b271-7d02059cea20"
    }
   },
   "outputs": [],
   "source": [
    "features = features[~is_setosa]\n",
    "labels = labels[~is_setosa]\n",
    "\n",
    "is_virginica = (labels == 'virginica')"
   ]
  },
  {
   "cell_type": "code",
   "execution_count": 32,
   "metadata": {
    "collapsed": true
   },
   "outputs": [],
   "source": [
    "best_acc = -1.0\n",
    "for fi in range(features.shape[1]):\n",
    "    # Testing all possible thresholds\n",
    "    thresh = features[:, fi]\n",
    "    for t in thresh:\n",
    "        # Get the vector for feature 'fi'\n",
    "        feature_i = features[:, fi]\n",
    "        # apply threshold 't'\n",
    "        pred = (feature_i > t)\n",
    "        acc = (pred == is_virginica).mean()\n",
    "        rev_acc = (pred == ~is_virginica).mean()\n",
    "        \n",
    "        reverse = rev_acc > acc\n",
    "        \n",
    "        if reverse:\n",
    "            acc = rev_acc\n",
    "            \n",
    "        if acc > best_acc:\n",
    "            best_acc = acc\n",
    "            best_fi = fi\n",
    "            best_t = t\n",
    "            best_reverse = reverse"
   ]
  },
  {
   "cell_type": "code",
   "execution_count": 33,
   "metadata": {
    "collapsed": true
   },
   "outputs": [],
   "source": [
    "def is_virginica_test(fi, t, reverse, example):\n",
    "    test = example[fi] > t\n",
    "    if reverse:\n",
    "        test = not test\n",
    "    return test"
   ]
  },
  {
   "cell_type": "markdown",
   "metadata": {},
   "source": [
    "# Evaluation - holding out data and cross-validation"
   ]
  },
  {
   "cell_type": "code",
   "execution_count": null,
   "metadata": {
    "collapsed": true
   },
   "outputs": [],
   "source": [
    "correct = 0.0\n",
    "for ei in range (len(features)):\n",
    "    # select all but one at position 'ei':\n",
    "    training = np.ones(len(features), bool)\n",
    "    training[ei] = False\n",
    "    testing = ~training\n",
    "    model = fit_model(features[training], is_virginica[training])\n",
    "    predictions = predict(model, features[testing])\n",
    "    correct += np.sum(predictions == is_virginica[testing])\n",
    "    \n",
    "acc = correct/float(len(features))\n",
    "print('Accuracy: {0:.1%}'.format(acc))"
   ]
  },
  {
   "cell_type": "markdown",
   "metadata": {},
   "source": [
    "^UP - leave one, train everything else, test only one\n",
    "\n",
    "major problem with leave-one-out cross-validation: perfmorming many times more work\n",
    "\n",
    "**x-fold cross-validation**\n",
    "\n",
    "| Dataset | Fold1 | Fold2 | Fold3 | Fold4 | Fold5 |\n",
    "|---------|-------|-------|-------|-------|-------|\n",
    "| 1       | Test  | train | train | train | train |\n",
    "| 2       | train | Test  | train | train | train |\n",
    "| 3       | train | train | Test  | train | train |\n",
    "| 4       | train | train | train | Test  | train |\n",
    "| 5       | train | train | train | train | Test  |\n",
    "\n",
    "Split dataset into five pieces. One block is for testing others are for training.\n",
    "\n",
    "If you have little data, you can even consider using 10 or 20 folds.\n",
    "\n",
    "When generating the folds you need to be careful to keep them balanced (scikit does it for us)\n",
    "\n",
    "One problem - we created several models. What do we return? Train a single overall model on all your data. X-validation gives estimate of how well this model werks."
   ]
  },
  {
   "cell_type": "markdown",
   "metadata": {},
   "source": [
    "# Builiding more complex classifiers\n",
    "\n",
    "\"What makes up a classification model?\"\n",
    "\n",
    "- **The structure of the model** - how will model make decisions\n",
    "- **The search procedure**\n",
    "- **The gain or loss function  - some mistakes might be costlier\n",
    "\n",
    "## A more complex dataset and a more complex classifier\n",
    "\n",
    "### Learning about the Seeds dataset\n",
    "\n",
    "Dataset of measurements of wheat seeds. Seven features that are present:\n",
    "- Area A \n",
    "- Permieter P\n",
    "- compactness C = 4*pi*A/(P^2)\n",
    "- length of kernel\n",
    "- width of kernel\n",
    "- asymmetry coefficent\n",
    "- length of kernel groove\n",
    "\n",
    "**Feature engineering** - trying to create new features (often matters more for performance). just like in example above - compactness is function of A, P\n",
    "\n",
    "## Nearest neighbor classification\n",
    "\n",
    "The scikit-learn classification API is organized around classifier objects.\n",
    "- `fit(features, labels)`\n",
    "- `predict(features)`"
   ]
  },
  {
   "cell_type": "code",
   "execution_count": 53,
   "metadata": {
    "collapsed": true
   },
   "outputs": [],
   "source": [
    "def load_dataset(dataset_name):\n",
    "    '''\n",
    "    data,labels = load_dataset(dataset_name)\n",
    "    Load a given dataset\n",
    "    Returns\n",
    "    -------\n",
    "    data : numpy ndarray\n",
    "    labels : list of str\n",
    "    '''\n",
    "    data = []\n",
    "    labels = []\n",
    "    with open('./data/{0}.tsv'.format(dataset_name)) as ifile:\n",
    "        for line in ifile:\n",
    "            tokens = line.strip().split('\\t')\n",
    "            data.append([float(tk) for tk in tokens[:-1]])\n",
    "            labels.append(tokens[-1])\n",
    "    data = np.array(data)\n",
    "    labels = np.array(labels)\n",
    "    return data, labels"
   ]
  },
  {
   "cell_type": "code",
   "execution_count": 54,
   "metadata": {
    "collapsed": false
   },
   "outputs": [
    {
     "ename": "IOError",
     "evalue": "[Errno 2] No such file or directory: './data/seeds.tsv'",
     "output_type": "error",
     "traceback": [
      "\u001b[1;31m---------------------------------------------------------------------------\u001b[0m",
      "\u001b[1;31mIOError\u001b[0m                                   Traceback (most recent call last)",
      "\u001b[1;32m<ipython-input-54-a39121bb215e>\u001b[0m in \u001b[0;36m<module>\u001b[1;34m()\u001b[0m\n\u001b[0;32m      1\u001b[0m \u001b[1;32mfrom\u001b[0m \u001b[0msklearn\u001b[0m\u001b[1;33m.\u001b[0m\u001b[0mneighbors\u001b[0m \u001b[1;32mimport\u001b[0m \u001b[0mKNeighborsClassifier\u001b[0m\u001b[1;33m\u001b[0m\u001b[0m\n\u001b[0;32m      2\u001b[0m \u001b[1;33m\u001b[0m\u001b[0m\n\u001b[1;32m----> 3\u001b[1;33m \u001b[0mfeatures\u001b[0m\u001b[1;33m,\u001b[0m \u001b[0mlabels\u001b[0m \u001b[1;33m=\u001b[0m \u001b[0mload_dataset\u001b[0m\u001b[1;33m(\u001b[0m\u001b[1;34m'seeds'\u001b[0m\u001b[1;33m)\u001b[0m\u001b[1;33m\u001b[0m\u001b[0m\n\u001b[0m\u001b[0;32m      4\u001b[0m \u001b[1;33m\u001b[0m\u001b[0m\n\u001b[0;32m      5\u001b[0m \u001b[1;33m\u001b[0m\u001b[0m\n",
      "\u001b[1;32m<ipython-input-53-2ca067a2a379>\u001b[0m in \u001b[0;36mload_dataset\u001b[1;34m(dataset_name)\u001b[0m\n\u001b[0;32m     10\u001b[0m     \u001b[0mdata\u001b[0m \u001b[1;33m=\u001b[0m \u001b[1;33m[\u001b[0m\u001b[1;33m]\u001b[0m\u001b[1;33m\u001b[0m\u001b[0m\n\u001b[0;32m     11\u001b[0m     \u001b[0mlabels\u001b[0m \u001b[1;33m=\u001b[0m \u001b[1;33m[\u001b[0m\u001b[1;33m]\u001b[0m\u001b[1;33m\u001b[0m\u001b[0m\n\u001b[1;32m---> 12\u001b[1;33m     \u001b[1;32mwith\u001b[0m \u001b[0mopen\u001b[0m\u001b[1;33m(\u001b[0m\u001b[1;34m'./data/{0}.tsv'\u001b[0m\u001b[1;33m.\u001b[0m\u001b[0mformat\u001b[0m\u001b[1;33m(\u001b[0m\u001b[0mdataset_name\u001b[0m\u001b[1;33m)\u001b[0m\u001b[1;33m)\u001b[0m \u001b[1;32mas\u001b[0m \u001b[0mifile\u001b[0m\u001b[1;33m:\u001b[0m\u001b[1;33m\u001b[0m\u001b[0m\n\u001b[0m\u001b[0;32m     13\u001b[0m         \u001b[1;32mfor\u001b[0m \u001b[0mline\u001b[0m \u001b[1;32min\u001b[0m \u001b[0mifile\u001b[0m\u001b[1;33m:\u001b[0m\u001b[1;33m\u001b[0m\u001b[0m\n\u001b[0;32m     14\u001b[0m             \u001b[0mtokens\u001b[0m \u001b[1;33m=\u001b[0m \u001b[0mline\u001b[0m\u001b[1;33m.\u001b[0m\u001b[0mstrip\u001b[0m\u001b[1;33m(\u001b[0m\u001b[1;33m)\u001b[0m\u001b[1;33m.\u001b[0m\u001b[0msplit\u001b[0m\u001b[1;33m(\u001b[0m\u001b[1;34m'\\t'\u001b[0m\u001b[1;33m)\u001b[0m\u001b[1;33m\u001b[0m\u001b[0m\n",
      "\u001b[1;31mIOError\u001b[0m: [Errno 2] No such file or directory: './data/seeds.tsv'"
     ]
    }
   ],
   "source": [
    "from sklearn.neighbors import KNeighborsClassifier\n",
    "\n",
    "features, labels = load_dataset('seeds')\n",
    "\n",
    "\n",
    "# In constructor we specify the number of neighbors to consider\n",
    "classifier = KNeighborsClassifier(n_neighbors=1)\n",
    "\n",
    "# cross-validation\n",
    "from sklearn.cross_validation import KFold\n",
    "\n",
    "kf = KFold(len(features), n_folds=5, shuffle=True)\n",
    "# `means` will be a list for mean accuracies per fold\n",
    "for training,testing in kf:\n",
    "    classifier.fit(features[training], labels[training])\n",
    "    preditction = classifier.predict(features[testing])\n",
    "    \n",
    "    # np.mean on an array of booleans returns fraction\n",
    "    # of correct decisions for this fold:\n",
    "    curmean = np.mean(prediction == labels[testing])\n",
    "    means.append(curmean)\n",
    "\n",
    "print(\"Mean accuracy: {:.1%}\".format(np.mean(means)))"
   ]
  },
  {
   "cell_type": "code",
   "execution_count": null,
   "metadata": {
    "collapsed": true
   },
   "outputs": [],
   "source": []
  }
 ],
 "metadata": {
  "anaconda-cloud": {},
  "kernelspec": {
   "display_name": "Python [Root]",
   "language": "python",
   "name": "Python [Root]"
  },
  "language_info": {
   "codemirror_mode": {
    "name": "ipython",
    "version": 2
   },
   "file_extension": ".py",
   "mimetype": "text/x-python",
   "name": "python",
   "nbconvert_exporter": "python",
   "pygments_lexer": "ipython2",
   "version": "2.7.12"
  },
  "nbpresent": {
   "slides": {
    "0807f7ed-187b-410d-a1bd-1aa6210a8772": {
     "id": "0807f7ed-187b-410d-a1bd-1aa6210a8772",
     "prev": "bc050c58-bfcb-481d-bc67-3d5da1197873",
     "regions": {
      "ec97d251-cdfd-4e7d-b320-b846424a9f3d": {
       "attrs": {
        "height": 0.8,
        "width": 0.8,
        "x": 0.1,
        "y": 0.1
       },
       "content": {
        "cell": "67665699-d4f6-44ea-aae6-d1212a1d954f",
        "part": "whole"
       },
       "id": "ec97d251-cdfd-4e7d-b320-b846424a9f3d"
      }
     }
    },
    "a73580b3-78e6-4bcd-afe6-0cb7b47e0fc2": {
     "id": "a73580b3-78e6-4bcd-afe6-0cb7b47e0fc2",
     "prev": "0807f7ed-187b-410d-a1bd-1aa6210a8772",
     "regions": {
      "b1ca565a-f959-46c8-8c21-8cb7affddcc7": {
       "attrs": {
        "height": 0.8,
        "width": 0.8,
        "x": 0.1,
        "y": 0.1
       },
       "content": {
        "cell": "06e8f41e-3cfa-4e28-90a6-33452e0c8df6",
        "part": "whole"
       },
       "id": "b1ca565a-f959-46c8-8c21-8cb7affddcc7"
      }
     }
    },
    "af05ed8b-aaa3-4741-b77d-79807091f59b": {
     "id": "af05ed8b-aaa3-4741-b77d-79807091f59b",
     "prev": "a73580b3-78e6-4bcd-afe6-0cb7b47e0fc2",
     "regions": {
      "23eeb8d2-e748-45a9-9638-da078fcc2633": {
       "attrs": {
        "height": 0.8,
        "width": 0.8,
        "x": 0.1,
        "y": 0.1
       },
       "content": {
        "cell": "8f64285a-89fc-452d-b271-7d02059cea20",
        "part": "whole"
       },
       "id": "23eeb8d2-e748-45a9-9638-da078fcc2633"
      }
     }
    },
    "bc050c58-bfcb-481d-bc67-3d5da1197873": {
     "id": "bc050c58-bfcb-481d-bc67-3d5da1197873",
     "prev": "d00501dd-ea9e-4bef-bcdb-bf89d215673b",
     "regions": {
      "dbd54ffe-5722-4331-9b74-563d380b3554": {
       "attrs": {
        "height": 0.8,
        "width": 0.7999999999999999,
        "x": 0.09856870229007635,
        "y": 0.1508905852417303
       },
       "content": {
        "cell": "f6b5877f-d710-44d8-a6e2-94c7c9226f59",
        "part": "whole"
       },
       "id": "dbd54ffe-5722-4331-9b74-563d380b3554"
      }
     }
    },
    "d00501dd-ea9e-4bef-bcdb-bf89d215673b": {
     "id": "d00501dd-ea9e-4bef-bcdb-bf89d215673b",
     "prev": null,
     "regions": {
      "d00fda89-123c-43f0-b828-5a81e5653e4d": {
       "attrs": {
        "height": 0.8,
        "width": 0.7999999999999999,
        "x": 0.02986641221374047,
        "y": 0.15597964376590334
       },
       "content": {
        "cell": "ac68b4b0-c194-4ef0-9bbd-77611826173c",
        "part": "whole"
       },
       "id": "d00fda89-123c-43f0-b828-5a81e5653e4d"
      }
     }
    }
   },
   "themes": {}
  }
 },
 "nbformat": 4,
 "nbformat_minor": 0
}
