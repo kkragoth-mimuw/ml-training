{
 "cells": [
  {
   "cell_type": "code",
   "execution_count": 29,
   "metadata": {
    "collapsed": false
   },
   "outputs": [
    {
     "name": "stdout",
     "output_type": "stream",
     "text": [
      "Extracting /tmp/data/train-images-idx3-ubyte.gz\n",
      "Extracting /tmp/data/train-labels-idx1-ubyte.gz\n",
      "Extracting /tmp/data/t10k-images-idx3-ubyte.gz\n",
      "Extracting /tmp/data/t10k-labels-idx1-ubyte.gz\n"
     ]
    }
   ],
   "source": [
    "import tensorflow as tf\n",
    "from tensorflow.examples.tutorials.mnist import input_data\n",
    "\n",
    "mnist = input_data.read_data_sets(\"/tmp/data\", one_hot=True)"
   ]
  },
  {
   "cell_type": "code",
   "execution_count": 30,
   "metadata": {
    "collapsed": false
   },
   "outputs": [],
   "source": [
    "n_nodes_hl1 = 500\n",
    "n_nodes_hl2 = 500\n",
    "n_nodes_hl3 = 500\n",
    "\n",
    "n_classes = 10\n",
    "batch_size = 100\n",
    "\n",
    "x = tf.placeholder('float', [None, 28*28])\n",
    "y = tf.placeholder('float')\n",
    "\n",
    "def neural_network_model(data):\n",
    "    hidden_1_layer = {'weights': tf.Variable(tf.random_normal([28*28, n_nodes_hl1])),\n",
    "                      'biases': tf.Variable(tf.random_normal([n_nodes_hl1]))}\n",
    "    hidden_2_layer = {'weights': tf.Variable(tf.random_normal([n_nodes_hl1, n_nodes_hl2])),\n",
    "                      'biases': tf.Variable(tf.random_normal([n_nodes_hl2]))}\n",
    "    hidden_3_layer = {'weights': tf.Variable(tf.random_normal([n_nodes_hl2, n_nodes_hl3])),\n",
    "                      'biases': tf.Variable(tf.random_normal([n_nodes_hl3]))}\n",
    "    output_layer = {'weights': tf.Variable(tf.random_normal([n_nodes_hl3, n_classes])),\n",
    "                    'biases': tf.Variable(tf.random_normal([n_classes]))}\n",
    "    \n",
    "    # (input_data * weights) + biases\n",
    "    l1 = tf.add(tf.matmul(data, hidden_1_layer['weights']), hidden_1_layer['biases'])\n",
    "    l1 = tf.nn.relu(l1)\n",
    "    \n",
    "    l2 = tf.add(tf.matmul(l1, hidden_2_layer['weights']), hidden_2_layer['biases'])\n",
    "    l2 = tf.nn.relu(l2)\n",
    "    \n",
    "    l3 = tf.add(tf.matmul(l2, hidden_3_layer['weights']), hidden_3_layer['biases'])\n",
    "    l3 = tf.nn.relu(l3)\n",
    "    \n",
    "    output = tf.matmul(l3, output_layer['weights']) +  output_layer['biases']\n",
    "    \n",
    "    return output"
   ]
  },
  {
   "cell_type": "code",
   "execution_count": 31,
   "metadata": {
    "collapsed": true
   },
   "outputs": [],
   "source": [
    "def train_neural_network(x):\n",
    "    prediction = neural_network_model(x)\n",
    "    cost = tf.reduce_mean(tf.nn.softmax_cross_entropy_with_logits(prediction, y))\n",
    "    \n",
    "    optimizer = tf.train.AdamOptimizer().minimize(cost)\n",
    "    \n",
    "    n_epochs = 35\n",
    "    \n",
    "    with tf.Session() as sess:\n",
    "        sess.run(tf.initialize_all_variables())\n",
    "        \n",
    "        for epoch in range(n_epochs):\n",
    "            epoch_loss = 0\n",
    "            for _ in range(int(mnist.train.num_examples / batch_size)):\n",
    "                epoch_x, epoch_y = mnist.train.next_batch(batch_size)\n",
    "                _, c = sess.run([optimizer, cost], feed_dict={x: epoch_x, y: epoch_y})\n",
    "                epoch_loss += c\n",
    "            print('Epoch {} completed out of {} | loss = {}'.format(epoch + 1, n_epochs, epoch_loss))\n",
    "            \n",
    "        correct = tf.equal(tf.argmax(prediction, 1), tf.argmax(y, 1))\n",
    "        accuracy = tf.reduce_mean(tf.cast(correct, 'float'))\n",
    "        print('Accuracy: {}'.format(accuracy.eval({x:mnist.test.images, y:mnist.test.labels})))"
   ]
  },
  {
   "cell_type": "code",
   "execution_count": 32,
   "metadata": {
    "collapsed": false
   },
   "outputs": [
    {
     "name": "stdout",
     "output_type": "stream",
     "text": [
      "Epoch 1 completed out of 35 | loss = 2014097.03866\n",
      "Epoch 2 completed out of 35 | loss = 462389.094536\n",
      "Epoch 3 completed out of 35 | loss = 254221.125576\n",
      "Epoch 4 completed out of 35 | loss = 150794.697439\n",
      "Epoch 5 completed out of 35 | loss = 93707.7154995\n",
      "Epoch 6 completed out of 35 | loss = 60724.6191455\n",
      "Epoch 7 completed out of 35 | loss = 42412.0295015\n",
      "Epoch 8 completed out of 35 | loss = 29458.6575648\n",
      "Epoch 9 completed out of 35 | loss = 25297.7242228\n",
      "Epoch 10 completed out of 35 | loss = 20704.8541571\n",
      "Epoch 11 completed out of 35 | loss = 17672.4647314\n",
      "Epoch 12 completed out of 35 | loss = 17594.2864803\n",
      "Epoch 13 completed out of 35 | loss = 16984.8762375\n",
      "Epoch 14 completed out of 35 | loss = 13806.0609801\n",
      "Epoch 15 completed out of 35 | loss = 13652.1901073\n",
      "Epoch 16 completed out of 35 | loss = 15147.2605625\n",
      "Epoch 17 completed out of 35 | loss = 12156.8300324\n",
      "Epoch 18 completed out of 35 | loss = 12588.5315454\n",
      "Epoch 19 completed out of 35 | loss = 11327.4226681\n",
      "Epoch 20 completed out of 35 | loss = 9740.3656857\n",
      "Epoch 21 completed out of 35 | loss = 9741.86941907\n",
      "Epoch 22 completed out of 35 | loss = 9962.26357758\n",
      "Epoch 23 completed out of 35 | loss = 9795.58518333\n",
      "Epoch 24 completed out of 35 | loss = 8699.57057715\n",
      "Epoch 25 completed out of 35 | loss = 8964.12485909\n",
      "Epoch 26 completed out of 35 | loss = 8045.77121306\n",
      "Epoch 27 completed out of 35 | loss = 6298.79442165\n",
      "Epoch 28 completed out of 35 | loss = 9139.92903241\n",
      "Epoch 29 completed out of 35 | loss = 7627.8815578\n",
      "Epoch 30 completed out of 35 | loss = 7488.71883625\n",
      "Epoch 31 completed out of 35 | loss = 6168.06498738\n",
      "Epoch 32 completed out of 35 | loss = 5982.27545634\n",
      "Epoch 33 completed out of 35 | loss = 6070.54708244\n",
      "Epoch 34 completed out of 35 | loss = 4892.07437646\n",
      "Epoch 35 completed out of 35 | loss = 5620.30834414\n",
      "Accuracy: 0.967700004578\n"
     ]
    }
   ],
   "source": [
    "train_neural_network(x)"
   ]
  },
  {
   "cell_type": "code",
   "execution_count": null,
   "metadata": {
    "collapsed": true
   },
   "outputs": [],
   "source": []
  }
 ],
 "metadata": {
  "kernelspec": {
   "display_name": "Python [Root]",
   "language": "python",
   "name": "Python [Root]"
  },
  "language_info": {
   "codemirror_mode": {
    "name": "ipython",
    "version": 2
   },
   "file_extension": ".py",
   "mimetype": "text/x-python",
   "name": "python",
   "nbconvert_exporter": "python",
   "pygments_lexer": "ipython2",
   "version": "2.7.12"
  }
 },
 "nbformat": 4,
 "nbformat_minor": 0
}
